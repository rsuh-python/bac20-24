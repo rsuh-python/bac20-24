{
 "cells": [
  {
   "cell_type": "markdown",
   "id": "1b106404-e1a2-4073-8d02-7d9e6544887a",
   "metadata": {},
   "source": [
    "#### Задача 1. \n",
    "\n",
    "Напишите класс Token, который будет содержать в качестве атрибутов все 10 значений из формата в задаче 4 из предыдущего семинара. "
   ]
  },
  {
   "cell_type": "code",
   "execution_count": null,
   "id": "4cfe14df-c303-4860-901e-67140af2ee5d",
   "metadata": {},
   "outputs": [],
   "source": [
    "class Token:\n",
    "    def __init__(self, ...):\n",
    "        # your code here\n",
    "    \n",
    "    def __str__(self):\n",
    "        # your code here\n",
    "        \n",
    "    def __repr__(self):\n",
    "        # your code here\n",
    "    \n",
    "    def prettyprint(self):\n",
    "        # use termcolor to print your token with colored attributes"
   ]
  },
  {
   "cell_type": "markdown",
   "id": "872115b5-662c-4beb-8f4c-78351f2e9d83",
   "metadata": {},
   "source": [
    "#### Задача 2. \n",
    "\n",
    "Напишите класс Sentence, который будет содержать список объектов класса Token. "
   ]
  },
  {
   "cell_type": "code",
   "execution_count": null,
   "id": "2f403f40-b901-4d8d-b6ea-38899e0c74e9",
   "metadata": {},
   "outputs": [],
   "source": [
    "class Sentence:\n",
    "    def __init__(self, ...):\n",
    "        # your code here\n",
    "    \n",
    "    def __str__(self):\n",
    "        # your code here\n",
    "        \n",
    "    def __repr__(self):\n",
    "        # your code here\n",
    "        \n",
    "    def printsentence(self):\n",
    "        # use prettyprint method from Token class to print the whole sentence"
   ]
  },
  {
   "cell_type": "markdown",
   "id": "2a3e8c86-50ad-483f-a5b6-6e3df68f0549",
   "metadata": {},
   "source": [
    "#### Задача 3 (3 балла). \n",
    "\n",
    "Напишите класс Reader, который будет считывать содержимое .conllu файла с форматом разметки, как в нашем файле, и хранить список объектов Sentence. Предложения в файле разметки разделяются пустой строкой. Другие примеры разметки можно взять [тут](https://github.com/dialogue-evaluation/SEMarkup-2023) из файла train.conllu. Осторожно - этот файл очень большой."
   ]
  },
  {
   "cell_type": "code",
   "execution_count": null,
   "id": "3c9eff8b-2bdf-4b8f-8d8d-f4a7e74a0fd7",
   "metadata": {},
   "outputs": [],
   "source": [
    "class Reader:\n",
    "    def __init__(self):\n",
    "        # your code here\n",
    "    \n",
    "    def __str__(self):\n",
    "        # your code here\n",
    "        \n",
    "    def __repr__(self):\n",
    "        # your code here\n",
    "        \n",
    "    def read(self, path):\n",
    "        # your code here\n",
    "        \n",
    "    def head(self, n):\n",
    "        # this method should show the first n Sentences from the file. Use printsentence method within."
   ]
  }
 ],
 "metadata": {
  "kernelspec": {
   "display_name": "Python 3 (ipykernel)",
   "language": "python",
   "name": "python3"
  },
  "language_info": {
   "codemirror_mode": {
    "name": "ipython",
    "version": 3
   },
   "file_extension": ".py",
   "mimetype": "text/x-python",
   "name": "python",
   "nbconvert_exporter": "python",
   "pygments_lexer": "ipython3",
   "version": "3.9.12"
  }
 },
 "nbformat": 4,
 "nbformat_minor": 5
}
