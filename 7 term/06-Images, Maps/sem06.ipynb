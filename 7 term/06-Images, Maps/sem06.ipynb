{
 "cells": [
  {
   "cell_type": "markdown",
   "id": "da7072ac-8b20-4a84-a1f4-4c025b3f29d8",
   "metadata": {},
   "source": [
    "#### Задача 1. \n",
    "\n",
    "Выберите любую картинку. Сделайте ее черно-белой с помощью библиотеки matplotlib и сохраните. "
   ]
  },
  {
   "cell_type": "code",
   "execution_count": null,
   "id": "6e4ab0f2-6ed5-404e-8827-973fd8f2f7bd",
   "metadata": {},
   "outputs": [],
   "source": [
    "# your code here"
   ]
  },
  {
   "cell_type": "markdown",
   "id": "91733479-dc52-4f6e-b1ab-1303c351f83c",
   "metadata": {},
   "source": [
    "#### Задача 2. \n",
    "\n",
    "Попробуйте применить разные фильтры Pillow к вашей картинке. Сохраните результаты. "
   ]
  },
  {
   "cell_type": "code",
   "execution_count": null,
   "id": "e297c428-fa07-4327-845b-247d2aa7ce7e",
   "metadata": {},
   "outputs": [],
   "source": [
    "# your code here"
   ]
  },
  {
   "cell_type": "markdown",
   "id": "07744082-ee12-4570-99e3-9a7499243f40",
   "metadata": {},
   "source": [
    "#### Задача 3. \n",
    "\n",
    "Узнайте, как с помощью Pillow можно отразить картинку зеркально. Сохраните зеркальное отображение. "
   ]
  },
  {
   "cell_type": "code",
   "execution_count": null,
   "id": "42f40ad2-988a-4649-ad5c-86d55e52d9b3",
   "metadata": {},
   "outputs": [],
   "source": [
    "# your code here"
   ]
  },
  {
   "cell_type": "markdown",
   "id": "3c541314-817f-44a4-8dd1-0061b1a60f95",
   "metadata": {},
   "source": [
    "#### Задача 4. \n",
    "\n",
    "Перенесите в питон любую карту признака с WALS. "
   ]
  },
  {
   "cell_type": "code",
   "execution_count": null,
   "id": "b673e143-802c-4f8c-8305-1ba5a2c232d3",
   "metadata": {},
   "outputs": [],
   "source": [
    "# your code here"
   ]
  }
 ],
 "metadata": {
  "kernelspec": {
   "display_name": "Python 3 (ipykernel)",
   "language": "python",
   "name": "python3"
  },
  "language_info": {
   "codemirror_mode": {
    "name": "ipython",
    "version": 3
   },
   "file_extension": ".py",
   "mimetype": "text/x-python",
   "name": "python",
   "nbconvert_exporter": "python",
   "pygments_lexer": "ipython3",
   "version": "3.9.12"
  }
 },
 "nbformat": 4,
 "nbformat_minor": 5
}
