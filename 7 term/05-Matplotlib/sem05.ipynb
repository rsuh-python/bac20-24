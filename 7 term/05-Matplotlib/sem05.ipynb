{
 "cells": [
  {
   "cell_type": "markdown",
   "id": "ddcc200a-ce0e-4461-8bf0-5c85c93f5330",
   "metadata": {},
   "source": [
    "#### Задача 1.\n",
    "\n",
    "Возьмите любой текст. Разбейте его на слова с помощью регулярных выражений либо любого токенизатора, какой знаете, посчитайте относительные частоты слов (частота слова / общее количество слов). Для первых 10 слов постройте график их частот. Это может быть просто линия (можете использовать перечень доступных параметров настройки [в документации](https://matplotlib.org/stable/api/_as_gen/matplotlib.pyplot.plot.html)), а может быть гистограмма или диаграмма, как вам больше нравится. "
   ]
  },
  {
   "cell_type": "code",
   "execution_count": null,
   "id": "7476aca9-6d4d-4d61-9ee3-3b93f665f7f7",
   "metadata": {},
   "outputs": [],
   "source": [
    "# your code here"
   ]
  },
  {
   "cell_type": "markdown",
   "id": "27618107-d02f-4741-84f7-49edc7e3da10",
   "metadata": {},
   "source": [
    "#### Задача 2.\n",
    "\n",
    "Представим себе, что у нас есть какие-нибудь данные по годам с 2000 по 2020 (можете просто сгенерировать случайные числа). Нам нужно разделить эти данные по пятилетиям и отобразить эти пятилетки на отдельных графиках. Постройте 4 графика в одном. "
   ]
  },
  {
   "cell_type": "code",
   "execution_count": null,
   "id": "27911a87-1405-4542-a9b2-4bc7f5f43359",
   "metadata": {},
   "outputs": [],
   "source": [
    "# your code here"
   ]
  },
  {
   "cell_type": "markdown",
   "id": "6c5224c5-15e7-4f61-8e2c-2afc596811de",
   "metadata": {},
   "source": [
    "#### Задача 3.\n",
    "\n",
    "Напишите функцию, которая будет строить график-гистограмму с помощью seaborn. Функция принимает два числа: x и n и генерирует n случайных значений от 0 до x. Таким образом, на оси X у нас числа от 1 до n, а на оси Y - сгенерированные значения. Выберите понравившуюся цветовую гамму. "
   ]
  },
  {
   "cell_type": "code",
   "execution_count": null,
   "id": "f1a54b5d-b951-4441-857a-64900b399594",
   "metadata": {},
   "outputs": [],
   "source": [
    "# your code here"
   ]
  },
  {
   "cell_type": "markdown",
   "id": "10ce8ceb-779b-4b6c-ac17-cf5ec81060c3",
   "metadata": {},
   "source": [
    "#### Задача 4. \n",
    "\n",
    "Сделайте график из задачи 3 интерактивным. "
   ]
  },
  {
   "cell_type": "code",
   "execution_count": null,
   "id": "b2d67544-d565-4287-86db-1fcf6274b15e",
   "metadata": {},
   "outputs": [],
   "source": [
    "# your code here"
   ]
  }
 ],
 "metadata": {
  "kernelspec": {
   "display_name": "Python 3 (ipykernel)",
   "language": "python",
   "name": "python3"
  },
  "language_info": {
   "codemirror_mode": {
    "name": "ipython",
    "version": 3
   },
   "file_extension": ".py",
   "mimetype": "text/x-python",
   "name": "python",
   "nbconvert_exporter": "python",
   "pygments_lexer": "ipython3",
   "version": "3.8.10"
  }
 },
 "nbformat": 4,
 "nbformat_minor": 5
}
