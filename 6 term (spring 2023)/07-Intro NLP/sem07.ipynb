{
 "cells": [
  {
   "cell_type": "markdown",
   "id": "54b8c420-5e40-4ab9-998c-5d344252ad40",
   "metadata": {},
   "source": [
    "#### Задача 1.\n",
    "\n",
    "Сравните токенизатор, который вы самостоятельно писали на предыдущих занятиях, с токенизатором razdel. Какой вам больше нравится? (Возьмите для проверки какой-нибудь сложный текст - с аббревиатурами, кг/см и смайликами). "
   ]
  },
  {
   "cell_type": "code",
   "execution_count": null,
   "id": "b30a53da-5d49-47bc-be08-3c60b96be797",
   "metadata": {},
   "outputs": [],
   "source": [
    "# your code here"
   ]
  },
  {
   "cell_type": "markdown",
   "id": "f8bd4d02-d526-4a4b-a19a-2057099345e2",
   "metadata": {},
   "source": [
    "#### Задача 2.\n",
    "\n",
    "Возьмите известные вам сентенайзеры. Подберите достаточно сложный, по вашему мнению, текст (подсказка: можно взять какой-нибудь пост из социальной сети), протестируйте токенизацию. Какие есть различия, какой сентенайзер вам больше нравится? \n",
    "\n",
    "Бонус: возьмите достаточно большой текстовый файл (войну и мир, например), токенизируйте по очереди разными сентенайзерами и сравните время. Как измерить затраченное время в юпитере? Можно использовать магическую функцию %%timeit. Она возвращает среднее время, затраченное на выполнение кода в ячейке. Пример использования:"
   ]
  },
  {
   "cell_type": "code",
   "execution_count": 1,
   "id": "c759a0b2-a48a-4654-a8ee-a60d63334b4d",
   "metadata": {},
   "outputs": [
    {
     "name": "stdout",
     "output_type": "stream",
     "text": [
      "825 µs ± 2.95 µs per loop (mean ± std. dev. of 7 runs, 1000 loops each)\n"
     ]
    }
   ],
   "source": [
    "%%timeit\n",
    "lst = [i ** 0.5 for i in range(10000)]"
   ]
  },
  {
   "cell_type": "markdown",
   "id": "4efe8aa2-ffc8-4404-b91f-c5598c5bb608",
   "metadata": {},
   "source": [
    "Числа здесь - количество микросекунд (одна миллионная секунды). Питон сообщает, что прогнал это выражение 7 раз, каждый раз по 1000 раз (итого - 7000 раз), на каждом выполнении замерил, сколько времени это у него заняло, посчитал среднее арифметическое (825 микросекунд) и стандартное отклонение (то есть, в среднем время выполнения команды может отличаться от среднего арифметического не больше чем на 3 микросекунды). "
   ]
  },
  {
   "cell_type": "code",
   "execution_count": null,
   "id": "53fc82fd-6170-4584-8461-c501b66c4f90",
   "metadata": {},
   "outputs": [],
   "source": [
    "# your code here"
   ]
  },
  {
   "cell_type": "markdown",
   "id": "668ce0f1-7c04-416a-b107-482befcb019d",
   "metadata": {},
   "source": [
    "#### Задача 2.5\n",
    "\n",
    "Сравните время работы для своего токенизатора и токенизатора razdel. "
   ]
  },
  {
   "cell_type": "code",
   "execution_count": null,
   "id": "ffab612b-3ffb-4099-b8c4-cf07032ed21b",
   "metadata": {},
   "outputs": [],
   "source": [
    "# your code here"
   ]
  },
  {
   "cell_type": "markdown",
   "id": "e58c8439-c01f-4719-8c57-c1c251ba2a9f",
   "metadata": {},
   "source": [
    "#### Задача 3. \n",
    "\n",
    "Возьмите любой текст на одном из языков, которые поддерживает spacy, и токенизируйте его. "
   ]
  },
  {
   "cell_type": "code",
   "execution_count": null,
   "id": "ce4a7ef5-6f21-44a5-91f5-4073c8d18522",
   "metadata": {},
   "outputs": [],
   "source": [
    "# your code here"
   ]
  }
 ],
 "metadata": {
  "kernelspec": {
   "display_name": "Python 3 (ipykernel)",
   "language": "python",
   "name": "python3"
  },
  "language_info": {
   "codemirror_mode": {
    "name": "ipython",
    "version": 3
   },
   "file_extension": ".py",
   "mimetype": "text/x-python",
   "name": "python",
   "nbconvert_exporter": "python",
   "pygments_lexer": "ipython3",
   "version": "3.9.12"
  }
 },
 "nbformat": 4,
 "nbformat_minor": 5
}
