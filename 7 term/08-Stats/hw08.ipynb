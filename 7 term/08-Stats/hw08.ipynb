{
 "cells": [
  {
   "cell_type": "markdown",
   "id": "3689899b-f676-492d-bde0-fa9b1dd4fddd",
   "metadata": {
    "tags": []
   },
   "source": [
    "#### Задача 1 (2 балла).\n",
    "\n",
    "Возьмите два больших текста (на любом языке, но оба на одном; это могут быть художественные тексты двух разных писателей, или тексты разного жанра). Посчитайте для каждого текста статистику по частям речи. Похожими ли получились цифры?"
   ]
  },
  {
   "cell_type": "code",
   "execution_count": null,
   "id": "1f1ce65a-74a5-4024-9c1a-32fd129ec239",
   "metadata": {},
   "outputs": [],
   "source": [
    "# your code here"
   ]
  },
  {
   "cell_type": "markdown",
   "id": "997a7fb1-4b6f-42dd-8141-b1fca789c4f7",
   "metadata": {},
   "source": [
    "#### Задача 2.\n",
    "\n",
    "Возьмите датасет \"Титаник\" из 7 семинара и удостоверьтесь, влияет ли класс, которым плыл пассажир, на его шанс выжить (scipy умеет работать с датафреймами)."
   ]
  },
  {
   "cell_type": "code",
   "execution_count": null,
   "id": "aa6ca155-4475-4cb0-8744-f8a5ad3326cf",
   "metadata": {},
   "outputs": [],
   "source": [
    "# your code here"
   ]
  }
 ],
 "metadata": {
  "kernelspec": {
   "display_name": "Python 3 (ipykernel)",
   "language": "python",
   "name": "python3"
  },
  "language_info": {
   "codemirror_mode": {
    "name": "ipython",
    "version": 3
   },
   "file_extension": ".py",
   "mimetype": "text/x-python",
   "name": "python",
   "nbconvert_exporter": "python",
   "pygments_lexer": "ipython3",
   "version": "3.9.12"
  }
 },
 "nbformat": 4,
 "nbformat_minor": 5
}
