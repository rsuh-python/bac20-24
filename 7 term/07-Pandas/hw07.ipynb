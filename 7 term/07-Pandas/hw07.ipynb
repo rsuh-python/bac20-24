{
 "cells": [
  {
   "cell_type": "code",
   "execution_count": null,
   "id": "d7fe22b5-9578-4696-9522-ac8b2d336a97",
   "metadata": {},
   "outputs": [],
   "source": [
    "import pandas as pd\n",
    "import numpy as np\n",
    "import re"
   ]
  },
  {
   "cell_type": "markdown",
   "id": "2b4097a2-772a-4399-8abd-f7bcba9e3a01",
   "metadata": {},
   "source": [
    "#### Задача 1. \n",
    "\n",
    "Откройте датасет \"Covid Live\", посмотрите первые пять его строчек. Переименуйте названия колонок таким образом, чтобы было:\n",
    "\n",
    "    Country,\\nOther => Country_Other\n",
    "    Total\\nCases => Total_Cases\n",
    "    Deaths/\\n1M pop => Deaths_1M pop\n",
    "    \n",
    "То есть, чтобы не было пробелов и было удобно выделять название колонки по двойному щелчку.\n",
    "    \n",
    "(Для последней задачи понадобится написать простенькую регулярку)."
   ]
  },
  {
   "cell_type": "code",
   "execution_count": null,
   "id": "a8dd0d36-96cc-49c8-b524-be13eea1cc04",
   "metadata": {},
   "outputs": [],
   "source": [
    "# your code here"
   ]
  },
  {
   "cell_type": "markdown",
   "id": "ebb0bef6-c076-4700-bb49-fa524e3f85b6",
   "metadata": {},
   "source": [
    "Выведите информацию по датасету. Попробуйте понять, что там за данные хранятся. "
   ]
  },
  {
   "cell_type": "code",
   "execution_count": null,
   "id": "8617b2e8-de19-472e-b535-5bfe729404e1",
   "metadata": {},
   "outputs": [],
   "source": [
    "# your code here"
   ]
  },
  {
   "cell_type": "markdown",
   "id": "a5b5a752-dbc1-4770-a155-c288591be7f3",
   "metadata": {},
   "source": [
    "#### Задача 2. \n",
    "\n",
    "Давайте наш датасет почистим: нам, скорее всего, понадобятся не все колонки, + хотелось бы избавиться от пропущенных значений NaN. Посмотрите, сколько в итоге останется строк в таблице. Обратите внимание на тип данных: не нужно ли нам его поменять?"
   ]
  },
  {
   "cell_type": "code",
   "execution_count": null,
   "id": "04b068d5-8419-4775-acd6-aa79effce5fa",
   "metadata": {},
   "outputs": [],
   "source": [
    "# your code here"
   ]
  },
  {
   "cell_type": "markdown",
   "id": "58f74fed-7748-49b8-84a5-19fb6e59c790",
   "metadata": {},
   "source": [
    "#### Задача 3. \n",
    "\n",
    "Давайте сменим тип данных на правильный. Заметьте, это не так просто: в наших данных что-то будет вам мешать. "
   ]
  },
  {
   "cell_type": "code",
   "execution_count": null,
   "id": "c11e5c67-25e5-40db-b95c-bd76b1da3909",
   "metadata": {},
   "outputs": [],
   "source": [
    "# your code here"
   ]
  },
  {
   "cell_type": "markdown",
   "id": "eb08a063-5d88-4343-b490-ec4ef14c53bd",
   "metadata": {},
   "source": [
    "#### Задача 4. \n",
    "\n",
    "Посчитайте, сколько, по этим данным, всего умерло людей от ковида. А сколько выздоровело?"
   ]
  },
  {
   "cell_type": "code",
   "execution_count": null,
   "id": "007ef833-bcbd-49bc-9ec7-86637a2544bc",
   "metadata": {},
   "outputs": [],
   "source": [
    "# your code here"
   ]
  },
  {
   "cell_type": "markdown",
   "id": "18f23215-2df0-40f3-b770-7d1d2dd2600a",
   "metadata": {},
   "source": [
    "#### Задача 5. \n",
    "\n",
    "Добавим новую колонку к нашей таблице: 'death_to_recovered', а в ней посчитаем соотношение смертей к выздоровевшим. Страна с наименьшим таким значением - удачливее всех :). Попробуем отсортировать табличку по этим значениям (используйте метод DataFrame.sort_values(column)). "
   ]
  },
  {
   "cell_type": "code",
   "execution_count": null,
   "id": "a037852d-5cb8-4dd2-8cf7-eb43bfe67d60",
   "metadata": {},
   "outputs": [],
   "source": [
    "# your code here"
   ]
  },
  {
   "cell_type": "markdown",
   "id": "8f8977c8-c0e1-48d2-9e59-73bf082d2318",
   "metadata": {},
   "source": [
    "#### Задача 6. \n",
    "\n",
    "Откроем новый датасет: в нем собрана информация про мобильные телефоны, их характеристики и ценовой диапазон. Посмотрите, какие там есть колонки, прикиньте, что они могут означать. Проверьте, есть ли в этом датасете пропущенные значения. "
   ]
  },
  {
   "cell_type": "code",
   "execution_count": null,
   "id": "40244f41-feb1-4a1e-a942-50063d950d9b",
   "metadata": {},
   "outputs": [],
   "source": [
    "# your code here"
   ]
  },
  {
   "cell_type": "markdown",
   "id": "b9bcee36-1848-49b4-b63c-a5ecfbaebd3f",
   "metadata": {},
   "source": [
    "#### Задача 7. \n",
    "\n",
    "Сгруппируйте таблицу по колонке \"диапазон цены\", посчитайте средние значения остальных колонок: удостоверимся, что параметры действительно зависят от цены. "
   ]
  },
  {
   "cell_type": "code",
   "execution_count": null,
   "id": "89159dd3-f9d8-4664-9a39-70eb4c2694fe",
   "metadata": {},
   "outputs": [],
   "source": [
    "# your code here"
   ]
  },
  {
   "cell_type": "markdown",
   "id": "77670985-ff0a-4201-beb3-aabb9061e54d",
   "metadata": {},
   "source": [
    "Бонус: давайте на графике посмотрим, как взаимодействуют друг с другом телефонные параметры. Попробуйте проанализировать график и понять, что на нем изображено. "
   ]
  },
  {
   "cell_type": "code",
   "execution_count": null,
   "id": "3aa86849-0001-4eb5-8499-29c10e63ec64",
   "metadata": {},
   "outputs": [],
   "source": [
    "import seaborn as sns\n",
    "import matplotlib.pyplot as plt\n",
    "\n",
    "plt.figure(figsize=(20, 12))\n",
    "\n",
    "corr = data.corr()\n",
    "sns.heatmap(corr, \n",
    "            annot=True, linewidths=.5, fmt='.2f',\n",
    "            xticklabels=corr.columns.values,\n",
    "            yticklabels=corr.columns.values,\n",
    "            cmap=sns.diverging_palette(100, 200, as_cmap=True), square=True)\n",
    "plt.show()"
   ]
  }
 ],
 "metadata": {
  "kernelspec": {
   "display_name": "Python 3 (ipykernel)",
   "language": "python",
   "name": "python3"
  },
  "language_info": {
   "codemirror_mode": {
    "name": "ipython",
    "version": 3
   },
   "file_extension": ".py",
   "mimetype": "text/x-python",
   "name": "python",
   "nbconvert_exporter": "python",
   "pygments_lexer": "ipython3",
   "version": "3.9.12"
  }
 },
 "nbformat": 4,
 "nbformat_minor": 5
}
