{
 "cells": [
  {
   "cell_type": "markdown",
   "id": "6656a6ae-26b4-46cd-886c-bee4f0f64a6d",
   "metadata": {},
   "source": [
    "#### Задача 1. \n",
    "\n",
    "Напишите программу, которая будет проверять тексты на попытки обмануть антиплагиат с помощью подмены некоторых символов на такие же, но латинские. Программа должна открывать текст в формате .txt, разделять его на токены любым способом и проверять каждый токен. Если токен содержит только латинские или кириллические символы, то с ним все хорошо, а если в нем есть 1-2 латинских символа и все остальные - кириллические, то программа должна печатать этот токен и номер его строки с указанием латинских букв. Строки можно нумеровать с помощью счетчика, когда читаете файл. Лучше всего считывать файл построчно, очевидно. "
   ]
  },
  {
   "cell_type": "code",
   "execution_count": null,
   "id": "155811d1-850f-4570-9ab7-dc75ff5a15d2",
   "metadata": {},
   "outputs": [],
   "source": [
    "# your code here"
   ]
  },
  {
   "cell_type": "markdown",
   "id": "0b7a8cac-1ac4-427a-a1ca-36c3e08f8a10",
   "metadata": {},
   "source": [
    "#### Задача 2 (3 балла).\n",
    "\n",
    "Напишите программу для игры в города. При загрузке программа должна подгружать файл с названиями городов (вам придется его составить, можно поискать готовые списки). Сама игра происходит следующим образом: начинает игрок-человек и вводит любое название города. Программа проверяет, на какую букву заканчивается это название, и случайным образом выбирает подходящий город на эту букву в своем списке (для случайного выбора можно использовать библиотеку random и функцию choice). Если город заканчивается на 'ь', берем предпоследнюю букву (или можно играть по-английски). Когда человек вводит следующий ответ, программа должна проверить, начинается ли введенный город на правильную букву, и если нет, то потребовать ввести заново. Чтобы остановить игру, человек должен просто нажать Enter. Не забудьте создать множество для уже введенных городов, ведь повторяться нельзя! (Список городов у программы тоже на самом деле может быть множеством или даже словарем, чтобы удобнее было по буквам отсеивать). \n",
    "\n",
    "+1 дополнительный балл, если напишете в классах. "
   ]
  },
  {
   "cell_type": "code",
   "execution_count": null,
   "id": "8905b146-0310-4f19-badc-8c3b7a14e64a",
   "metadata": {},
   "outputs": [],
   "source": [
    "from random import choice\n",
    "\n",
    "# your code here"
   ]
  },
  {
   "cell_type": "markdown",
   "id": "9ad1de21-fead-45ef-90b0-383e40325533",
   "metadata": {},
   "source": [
    "#### Задача 3.\n",
    "\n",
    "Представим себе, что мы планируем написать игру \"Тамагочи\". Напишите класс Cat для этой игры. "
   ]
  },
  {
   "cell_type": "code",
   "execution_count": null,
   "id": "4d9b4005-c9a1-4fee-964e-8139533e74de",
   "metadata": {},
   "outputs": [],
   "source": [
    "from time import sleep\n",
    "\n",
    "class Cat:\n",
    "    def __init__(self, ...):\n",
    "        # the cat would have a name, age, health, stamina and the level of relationship with the player\n",
    "        \n",
    "    def __str__(self):\n",
    "        # your code here\n",
    "    \n",
    "    def __repr__(self):\n",
    "        # your code here\n",
    "        \n",
    "    def speak(self):\n",
    "        # the cat says something (print it)\n",
    "    \n",
    "    def sleep(self):\n",
    "        ''' the cat sleeps and restores its stamina. \n",
    "        You can use module time and its function sleep(seconds) to imitate this. Function sleep makes PC do nothing and wait'''\n",
    "        \n",
    "    def feed(self):\n",
    "        # the player feeds the cat so it restores its health\n",
    "        \n",
    "    def play(self):\n",
    "        # the player plays with the cat and their relationship level grows\n",
    "        \n",
    "    def _grow(self):\n",
    "        # the cat gets older by 1 year. If it is older than 18 years, it dies :( Just print a message about it"
   ]
  }
 ],
 "metadata": {
  "kernelspec": {
   "display_name": "Python 3 (ipykernel)",
   "language": "python",
   "name": "python3"
  },
  "language_info": {
   "codemirror_mode": {
    "name": "ipython",
    "version": 3
   },
   "file_extension": ".py",
   "mimetype": "text/x-python",
   "name": "python",
   "nbconvert_exporter": "python",
   "pygments_lexer": "ipython3",
   "version": "3.9.12"
  }
 },
 "nbformat": 4,
 "nbformat_minor": 5
}
