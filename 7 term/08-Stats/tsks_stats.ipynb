{
 "cells": [
  {
   "cell_type": "markdown",
   "id": "390fe456-82e0-48c0-93a8-2681fadcc672",
   "metadata": {},
   "source": [
    "### 1"
   ]
  },
  {
   "cell_type": "markdown",
   "id": "eb05ce24-3d8b-44ba-880d-3599e31e410c",
   "metadata": {},
   "source": [
    "Добрый король Роберт Баратеон приехал в замок Винтерфелл, чтобы встретиться со своим старым другом лордом Эддардом Старком, хорошо выпить и вспомнить былые деньки. На приветственном пиру король заметил, какие в семье Старков все высокие, и загорелся выяснить, не выродился ли род Баратеонов, сравнив рост Старков с ростом принца Джоффри, чему тот не очень-то был и рад. Подняв бумаги с помощью замкового мейстера, король выяснил следующие значения роста Старков:\n",
    "\n",
    "- лорд Эддард Старк: 192 см\n",
    "- леди Кейтилин Старк: 178 см\n",
    "- Бенджен Старк: 188 см\n",
    "- Робб Старк: 180 см\n",
    "- Санса Старк: 170 см\n",
    "- Бран Старк: 165 см\n",
    "- Арья Старк: 145 см\n",
    "- Рикон Старк: 139 см\n",
    "- Джон Сноу: 180 см\n",
    "\n",
    "Учитывая то, что рост принца Джоффри составляет 169 см, помогите королю выяснить:\n",
    "1) Выше ли принц Джоффри, чем *в среднем* семья Старков?\n",
    "2) Выше ли принц Джоффри, чем *средний* Старк (медиана их ростов)?\n",
    "3) Выше ли принц Джоффри, чем *самый частый рост* в роду Старков (мода их ростов)?\n",
    "3) Изменится ли картина, если в ряд Старков обманом и хитростью затесался дядя принца карлик Тирион Ланнистер, чей рост составляет 115 см?"
   ]
  },
  {
   "cell_type": "markdown",
   "id": "74ca9aa0-9359-49b6-a1ad-1348712a074a",
   "metadata": {},
   "source": [
    "#### Решение 1:"
   ]
  },
  {
   "cell_type": "code",
   "execution_count": 1,
   "id": "cbbcc7f2-12e8-4e73-9ca6-8b1c3d720788",
   "metadata": {},
   "outputs": [
    {
     "name": "stdout",
     "output_type": "stream",
     "text": [
      "Среднее: 170.78 Медиана: 178.0 Мода: 180 Джоффри: 169\n"
     ]
    }
   ],
   "source": [
    "import numpy as np\n",
    "from scipy.stats import mode\n",
    "\n",
    "def king_report(starks, joff):\n",
    "    starks_mean = starks.mean().round(2)\n",
    "    starks_median = np.median(starks)\n",
    "    starks_mode = mode(starks)[0][0]\n",
    "    print(f\"Среднее: {starks_mean} Медиана: {starks_median} Мода: {starks_mode} Джоффри: {joff}\")\n",
    "\n",
    "starks = np.array([192, 178, 188, 180, 170, 165, 145, 139, 180])\n",
    "joffrey = 169\n",
    "king_report(starks, joffrey)"
   ]
  },
  {
   "cell_type": "markdown",
   "id": "4de9d1a2-04e1-40a3-8c38-03f5cac109f5",
   "metadata": {},
   "source": [
    "Тут Джоффри ловить нечего, конечно. Но вдруг хитрый Тирион выручит принца?"
   ]
  },
  {
   "cell_type": "code",
   "execution_count": 2,
   "id": "f95201e1-8514-4904-9646-f0a8627eb092",
   "metadata": {},
   "outputs": [
    {
     "name": "stdout",
     "output_type": "stream",
     "text": [
      "Среднее: 165.2 Медиана: 174.0 Мода: 180 Джоффри: 169\n"
     ]
    }
   ],
   "source": [
    "tyrion = 115\n",
    "starks = np.append(starks, tyrion)\n",
    "king_report(starks, joffrey)"
   ]
  },
  {
   "cell_type": "markdown",
   "id": "3fa283de-2659-4740-996f-de541bcc1a7b",
   "metadata": {},
   "source": [
    "И вмешательство дяди выручило принца в среднем, но очевидно не выручило в отношении медианы и моды. Хотя бы маленький мерзавец сохранил лицо..."
   ]
  },
  {
   "cell_type": "markdown",
   "id": "414192d0-c2c0-4c32-9d7b-468061f25425",
   "metadata": {},
   "source": [
    "### 2"
   ]
  },
  {
   "cell_type": "markdown",
   "id": "dc46e779-577c-4714-bac7-a48c083809e7",
   "metadata": {},
   "source": [
    "Молодой викинг Торвальд Волосатый Палец очень сильно хочет, чтобы ярл взял его в следующий набег. Ежедневно он встает на рассвете, умывается ледяной водой из колодца и без устали кидает свой топор в нарисованную на стене длинного дома мишень. Распределение попаданий Торвальда в мишень описывается функцией *плотности* вероятности экспоненциального распределения $f(x)=e^{-x}$, где $x>=0$ - расстояние в пальцах от центра мишени до точки попадания.\n",
    "\n",
    "Поскольку ярл не берет в хирд неумелых воинов, он требует, чтобы 90% попаданий топора находились в радиусе не больше 2 пальцев от центра.\n",
    "\n",
    "Возьмут ли Торвальда в следующий набег?"
   ]
  },
  {
   "cell_type": "markdown",
   "id": "a2c4eb5d-bed3-4e77-8257-8992946bbbdb",
   "metadata": {},
   "source": [
    "#### Математическое решение 2:"
   ]
  },
  {
   "cell_type": "markdown",
   "id": "d8603d78-058c-49bc-a4af-480e67cc4032",
   "metadata": {},
   "source": [
    "Для того, чтобы ответить на вопрос задачи, необходимо найти точку, в пределах которой лежит 90% попаданий Торвальда.\n",
    "Это та самая точка, которая отсекает площадь под графиком функции распределения, равную 0,9. Поскольку площадь под графиком функции в заданных пределах равна интегралу Римана от этой функции в этих пределах, мы обозначим нужную нам точку за $z$ и пишем:\n",
    "\n",
    "$0,9 = \\int_0^z e^{-x}dx = F(z) - F(0) $ по формуле Ньютона-Лейбница, где F(x) - первообразная функции.\n",
    "\n",
    "Наша первообразная равна $F(x) = \\int e^{-x}dx = -e^{-x} + C$, поэтому перепишем предыдущее выражение как:\n",
    "\n",
    "$0,9 = -e^{-z} - C + e^{0} + C = 1 - e^{-z}$\n",
    "\n",
    "$e^{-z} = 0,1$\n",
    "\n",
    "$z = -ln(0,1) = ln(10) = 2,303$ пальца, что больше условия, выдвинутого конунгом.\n",
    "\n",
    "Поэтому Торвальду придется еще потренироваться, чтобы улучшить функцию плотности.\n",
    "\n"
   ]
  },
  {
   "cell_type": "markdown",
   "id": "c3b64101-675e-47eb-ade4-cb544a3da878",
   "metadata": {},
   "source": [
    "#### Решение 2 на Python:"
   ]
  },
  {
   "cell_type": "markdown",
   "id": "296082c7-4534-43d1-bf9f-0c8525d8e33a",
   "metadata": {},
   "source": [
    "Для такой имплементации нужно очень хорошо понимать как устроены непрерывные распределения в scipy.stats и что делают основные функции распределения:\n",
    "CDF (функция распределения), PDF (функция плотности распределения), PPF(функция, обратная CDF) и SF(1 - CDF)."
   ]
  },
  {
   "cell_type": "code",
   "execution_count": 3,
   "id": "11d01ed5-962f-49ed-b3be-526ddfe0598c",
   "metadata": {},
   "outputs": [
    {
     "name": "stdout",
     "output_type": "stream",
     "text": [
      "2.302585092994046\n"
     ]
    }
   ],
   "source": [
    "from scipy.stats import expon\n",
    "\n",
    "torvald = expon()\n",
    "result = torvald.ppf(0.9)\n",
    "print(result)"
   ]
  },
  {
   "cell_type": "markdown",
   "id": "82e84c28-e390-4159-99e8-2d0a3693d943",
   "metadata": {},
   "source": [
    "### 3"
   ]
  },
  {
   "cell_type": "markdown",
   "id": "1898ef67-95f0-4c9a-bb30-4b42d2d16b62",
   "metadata": {},
   "source": [
    "У веселого молочника Джастаса Уолкера на ферме праздник - ему удалось вывести поросят редкой субарктической породы. Счастливый фермер методично взвесил все 15 поросят, получив следующие значения их весов: [8.8,  9.7,  9.8, 12.3, 11.6, 12.6,  8.4, 10.4,  9.9,  7.5, 11.9, 7 , 10.4, 12.3,  9.9]. И как умному человеку, к тому же прочитавшему недавно учебник Лагутина по математической статистике, ему стало очень интересно, сможет ли он предсказать средний вес вообще любого поросенка этой редкой субарктической породы?\n",
    "\n",
    "Джастас предполагает, что этот вес равен 10. Вместе с ним проверьте, есть ли у Джастаса основания отвергнуть нулевую гипотезу о равенстве генерального среднего совокупности весов поросят субарктической породы числу 10, если пороговый уровень значимости гипотезы равен 0.1?"
   ]
  },
  {
   "cell_type": "markdown",
   "id": "bcfdbeb6-37fc-41c8-9bd2-15794f9e8ca1",
   "metadata": {},
   "source": [
    "#### Решение 3.1:"
   ]
  },
  {
   "cell_type": "markdown",
   "id": "a618a436-e9e2-4b83-a414-2145a67321fb",
   "metadata": {},
   "source": [
    "Сформулируем статистический вывод: нам нужно проверить нулевую гипотезу о равенстве среднего генеральной совокупности, из которой взята наша выборка, числу 10. Так как выборка маленькая (15), здесь следует использовать распределение Стьюдента в предположении, что генеральная совокупность распределена нормально.\n",
    "\n",
    "Вычислим нужные нам значения:"
   ]
  },
  {
   "cell_type": "code",
   "execution_count": 4,
   "id": "bffda8e8-89fb-4c00-a801-494a04d2fd9d",
   "metadata": {},
   "outputs": [],
   "source": [
    "import numpy as np\n",
    "from scipy.stats import t\n",
    "\n",
    "mu_hyp = 10 # гипотетическое генеральное среднее"
   ]
  },
  {
   "cell_type": "code",
   "execution_count": 5,
   "id": "cadd4ed0-3ff0-4420-8e39-12e00fb18bbf",
   "metadata": {},
   "outputs": [
    {
     "name": "stdout",
     "output_type": "stream",
     "text": [
      "10.166666666666668 1.748741043749828 15\n"
     ]
    }
   ],
   "source": [
    "samp = np.array([8.8, 9.7, 9.8, 12.3, 11.6, 12.6, 8.4, 10.4, 9.9, 7.5, 11.9, 7 , 10.4, 12.3, 9.9]) # выборка\n",
    "x_mean = samp.mean() # выборочное среднее\n",
    "x_sd = samp.std(ddof=1) # выборочное стандартное отклонение ВНИМАНИЕ НА ПАРАМЕТР DDOF: DELTA DEGREES OF FREEDOM\n",
    "n = samp.shape[0] # размер выборки\n",
    "print(x_mean, x_sd, n)"
   ]
  },
  {
   "cell_type": "markdown",
   "id": "3b0f40c7-7c26-46a2-b0cf-f87da7597209",
   "metadata": {},
   "source": [
    "Теперь найдем стандартное отклонение средних se по формуле $s_e = \\frac{s_d}{\\sqrt{n}}$:"
   ]
  },
  {
   "cell_type": "code",
   "execution_count": 6,
   "id": "18820cf3-1ec4-4b0d-9360-7e4d56580db3",
   "metadata": {},
   "outputs": [
    {
     "data": {
      "text/plain": [
       "0.4515229959514973"
      ]
     },
     "execution_count": 6,
     "metadata": {},
     "output_type": "execute_result"
    }
   ],
   "source": [
    "se = x_sd/np.sqrt(n)\n",
    "se"
   ]
  },
  {
   "cell_type": "markdown",
   "id": "bfd6d82f-20cd-460a-9ea1-bad98ef64907",
   "metadata": {},
   "source": [
    "И теперь, собственно, наша задача найти значение t-статистики для заданных выборочного среднего x_mean, генерального среднего my_hyp и найденного se:"
   ]
  },
  {
   "cell_type": "code",
   "execution_count": 7,
   "id": "74840b77-2d32-4b28-b3eb-3b4a1ca72be6",
   "metadata": {},
   "outputs": [
    {
     "data": {
      "text/plain": [
       "0.3691211038220769"
      ]
     },
     "execution_count": 7,
     "metadata": {},
     "output_type": "execute_result"
    }
   ],
   "source": [
    "z = (x_mean - mu_hyp) / se\n",
    "z"
   ]
  },
  {
   "cell_type": "markdown",
   "id": "12f76af9-30e5-494e-ac58-fc1dec20a8ba",
   "metadata": {},
   "source": [
    "Что мы нашли? Мы нашли пороговое значение t-статистики для нашей выборки и предполагаемого среднего, \"дальше\" которого по модулю нам нельзя попадать. И все, что осталось - вычислить эту плохую вероятность попасть туда (уровень значимости гипотезы). Для этого возьмем распределение Стьюдента:"
   ]
  },
  {
   "cell_type": "code",
   "execution_count": 8,
   "id": "42520c17-6620-4640-9560-3edfee9c2b85",
   "metadata": {},
   "outputs": [],
   "source": [
    "degrees_of_freedom = n - 1 # число степеней свободы ВЫБОРКИ равно ее мощности минус единица\n",
    "tstat = t(degrees_of_freedom) # распределение с заданным числом степеней свободы"
   ]
  },
  {
   "cell_type": "markdown",
   "id": "40b18e5e-a318-4442-9f57-598b094b265f",
   "metadata": {},
   "source": [
    "И вычислим площадь под графиком функции плотности распределения слева от значения z и справа от значения -z, так как распределение Стьюдента симметрично - это и будет уровень значимости, который мы ищем:"
   ]
  },
  {
   "cell_type": "code",
   "execution_count": 9,
   "id": "de70a7bc-8c40-424d-aae3-f4c7ee1f82e9",
   "metadata": {},
   "outputs": [
    {
     "data": {
      "text/plain": [
       "0.7175602068525668"
      ]
     },
     "execution_count": 9,
     "metadata": {},
     "output_type": "execute_result"
    }
   ],
   "source": [
    "p = (1 - tstat.cdf(z)) + tstat.cdf(-z)\n",
    "# или, используя survival function\n",
    "# p = tstat.sf(z) + (1 - tstat.sf(-z))\n",
    "p"
   ]
  },
  {
   "cell_type": "code",
   "execution_count": 10,
   "id": "3af1288b-7873-4600-8409-502d22f1c80f",
   "metadata": {},
   "outputs": [
    {
     "data": {
      "text/plain": [
       "False"
      ]
     },
     "execution_count": 10,
     "metadata": {},
     "output_type": "execute_result"
    }
   ],
   "source": [
    "p < 0.1 # cравниваем с заданным пороговым значением"
   ]
  },
  {
   "cell_type": "markdown",
   "id": "a288e2c0-c426-42fd-9152-37df8a0045d0",
   "metadata": {},
   "source": [
    "Следовательно, у нас с Джастасом нет оснований отвергать нулевую гипотезу о том, что средний поросенок всей субарктической породы весит 10 кг."
   ]
  },
  {
   "cell_type": "markdown",
   "id": "6778b402-c39a-4383-a11f-162bdfa24613",
   "metadata": {},
   "source": [
    "#### Решение 2:"
   ]
  },
  {
   "cell_type": "markdown",
   "id": "eb154514-700e-4206-8ed0-c725de0e26d5",
   "metadata": {},
   "source": [
    "Для тех, кто срезает углы и будет юзать готовые имплементации t-теста:"
   ]
  },
  {
   "cell_type": "code",
   "execution_count": 11,
   "id": "a3a6ec05-279e-453c-b02e-3bcbbcff9158",
   "metadata": {},
   "outputs": [],
   "source": [
    "from scipy.stats import ttest_1samp"
   ]
  },
  {
   "cell_type": "code",
   "execution_count": 12,
   "id": "cf5d732f-9dcd-4ed1-9758-6bec04e19662",
   "metadata": {},
   "outputs": [
    {
     "data": {
      "text/plain": [
       "0.7175602068525668"
      ]
     },
     "execution_count": 12,
     "metadata": {},
     "output_type": "execute_result"
    }
   ],
   "source": [
    "tt = ttest_1samp(samp, mu_hyp)\n",
    "tt.pvalue"
   ]
  },
  {
   "cell_type": "markdown",
   "id": "c403e081-a563-4faf-90c0-d58edae80f11",
   "metadata": {},
   "source": [
    "То же значение, те же выводы."
   ]
  },
  {
   "cell_type": "markdown",
   "id": "253a79a7-ad5b-469e-baa5-b0a509508d9a",
   "metadata": {},
   "source": [
    "### 4"
   ]
  },
  {
   "cell_type": "markdown",
   "id": "c9900e3a-2419-4dca-bf0a-65105475194f",
   "metadata": {},
   "source": [
    "Ученые-археологи, исследовавшие гробницы древних русов, обнаружили на саркофаге воеводы Буреслава Редедича нацарапанное на языке рептилоидов матерное слово из семнадцати символов. Технология, которой слово было нанесено на сверхтвердый базальт, по-прежнему за пределами понимания современных физики и материаловедения, и единственное, что ученые смогли - измерить глубину каждой буквы в камне. Ужас охватил ученых, когда они увидели результаты этих измерений. Компьютер безжалостно распечатал эти невероятные цифры: [ 0.894,  0.745, -1.633,  1.315,  2.458,  0.462,  1.046, -0.04 , 0.121,  0.031, -0.491, -0.329,  0.881, -1.516,  0.056, -0.105, 0.178], и единственный вопрос, который звучал в затхлых залах древних гробниц - это нормально вообще, по всем стандартам, хоть на десятую долю?"
   ]
  },
  {
   "cell_type": "markdown",
   "id": "5421e285-9ba6-4636-9e57-e926777ce06b",
   "metadata": {},
   "source": [
    "#### Решение 4.1:"
   ]
  },
  {
   "cell_type": "markdown",
   "id": "ef0927da-5c24-4cf4-93d2-abbaeed42f95",
   "metadata": {},
   "source": [
    "Очевидная задача на применение нужного критерия согласия данной выборки с генеральной совокупностью, имеющей стандартное нормальное распределение, с предельным уровнем значимости, равным 0,1. "
   ]
  },
  {
   "cell_type": "markdown",
   "id": "e1a9c1f7-ec95-4718-9180-c75b09855e43",
   "metadata": {},
   "source": [
    "В этом роуте нас ждет построение эмпирической функции распределения и затем ручное применение критерия Колмогорова-Смирнова."
   ]
  },
  {
   "cell_type": "code",
   "execution_count": 13,
   "id": "d9c4106a-52e3-4aef-863c-662e23361b6c",
   "metadata": {},
   "outputs": [],
   "source": [
    "import numpy as np\n",
    "import matplotlib.pyplot as plt\n",
    "from scipy.stats import norm, kstwo\n",
    "%matplotlib inline"
   ]
  },
  {
   "cell_type": "code",
   "execution_count": 14,
   "id": "2ad60ceb-7eb2-42c7-9310-4a5df1cbdfbf",
   "metadata": {},
   "outputs": [
    {
     "data": {
      "text/plain": [
       "array([-1.633, -1.516, -0.491, -0.329, -0.105, -0.04 ,  0.031,  0.056,\n",
       "        0.121,  0.178,  0.462,  0.745,  0.881,  0.894,  1.046,  1.315,\n",
       "        2.458])"
      ]
     },
     "execution_count": 14,
     "metadata": {},
     "output_type": "execute_result"
    }
   ],
   "source": [
    "samp_4 = np.array(\n",
    "    [ 0.894,  0.745, -1.633,  1.315,  2.458,  0.462,  1.046, -0.04 , 0.121,  0.031, -0.491, -0.329,  0.881, -1.516,  0.056, -0.105, 0.178]\n",
    ")\n",
    "samp_4.sort() # отсортируем выборку в вариационный ряд\n",
    "samp_4"
   ]
  },
  {
   "cell_type": "markdown",
   "id": "57bb8a55-089b-4fdf-b152-96425db5cc52",
   "metadata": {},
   "source": [
    "Для построения эмпирической функции распределения нужно сделать вот что: разбить размах выборки на участки с помощью набора точек и затем сосчитать, сколько из значений выборки попадают в полуинтервал от минус бесконечности до каждой точки. Таким образом, левее минимума выборки кумулятивная вероятность будет равна 0, а правее максимума выборки - 1, что полностью соответствует требованию к функции распределения; только вид она будет иметь ступенчатый. Мы разобьем размах выборки на 1000 точек:"
   ]
  },
  {
   "cell_type": "code",
   "execution_count": 15,
   "id": "6d97ac04-ab01-4c90-99ac-7810b88cfc2f",
   "metadata": {},
   "outputs": [],
   "source": [
    "ls = np.linspace(samp_4.min(), samp_4.max(), 1000)\n",
    "\n",
    "emp_F = np.array([np.sum(samp_4 <= i) for i in ls]) / samp_4.shape[0] "
   ]
  },
  {
   "cell_type": "markdown",
   "id": "76d859a1-9607-4bee-a06b-31d4b94dbe97",
   "metadata": {},
   "source": [
    "Теперь рассчитаем теоретические значения кумулятивной вероятности, используя стандартную нормальную функцию распределения:"
   ]
  },
  {
   "cell_type": "code",
   "execution_count": 16,
   "id": "9b135d1d-bd3c-4449-aabb-4946100e1bfb",
   "metadata": {},
   "outputs": [],
   "source": [
    "theo_F = norm(0,1).cdf(ls)"
   ]
  },
  {
   "cell_type": "markdown",
   "id": "7ea5e379-1683-4806-bc17-cbedb18ae622",
   "metadata": {},
   "source": [
    "Посмотрим на графики функций:"
   ]
  },
  {
   "cell_type": "code",
   "execution_count": 17,
   "id": "55e0772a-10c0-4023-87ee-1caeb9b3ad45",
   "metadata": {},
   "outputs": [
    {
     "name": "stderr",
     "output_type": "stream",
     "text": [
      "C:\\Users\\Lenovo\\AppData\\Local\\Temp\\ipykernel_9492\\756466660.py:6: UserWarning: Matplotlib is currently using module://matplotlib_inline.backend_inline, which is a non-GUI backend, so cannot show the figure.\n",
      "  fig.show();\n"
     ]
    },
    {
     "data": {
      "image/png": "[encoded data removed]",
      "text/plain": [
       "<Figure size 600x600 with 1 Axes>"
      ]
     },
     "metadata": {},
     "output_type": "display_data"
    }
   ],
   "source": [
    "fig, ax = plt.subplots(figsize=(6,6))\n",
    "fig.suptitle('Эмпирическая и теоретическая функции распределения')\n",
    "ax.step(ls, emp_F, label='Эмпирическая', where='post')\n",
    "ax.plot(ls, theo_F, label='Теоретическая')\n",
    "ax.legend()\n",
    "fig.show();"
   ]
  },
  {
   "cell_type": "markdown",
   "id": "c2019c61-d9e6-467d-8698-7de81b9b61d1",
   "metadata": {},
   "source": [
    "Теперь вычислим значение статистики критерия, как максимум (на самом деле супремум, точная верхняя грань) модулей разности между эмпирической и теоретической функции распределения:"
   ]
  },
  {
   "cell_type": "code",
   "execution_count": 18,
   "id": "a2ae4e57-8bd2-4a55-b29c-833d06d0bc77",
   "metadata": {},
   "outputs": [
    {
     "data": {
      "text/plain": [
       "0.22268370216673505"
      ]
     },
     "execution_count": 18,
     "metadata": {},
     "output_type": "execute_result"
    }
   ],
   "source": [
    "D = np.max(np.abs(emp_F - theo_F))\n",
    "D"
   ]
  },
  {
   "cell_type": "markdown",
   "id": "f755cf83-3f3a-43c4-950f-9ada53c991b4",
   "metadata": {},
   "source": [
    "Последний шаг - воспользоваться распределением Колмогорова для того, чтобы вычислить уровень значимости для найденного значения статистики. Это несложно, памятуя, что у критерия правосторонняя критическая область:"
   ]
  },
  {
   "cell_type": "code",
   "execution_count": 19,
   "id": "f30bd513-176b-4c8b-9246-4baf1fd87abc",
   "metadata": {},
   "outputs": [
    {
     "data": {
      "text/plain": [
       "0.3190767838979188"
      ]
     },
     "execution_count": 19,
     "metadata": {},
     "output_type": "execute_result"
    }
   ],
   "source": [
    "ks = kstwo(samp_4.shape[0])\n",
    "p = 1 - ks.cdf(D)\n",
    "p"
   ]
  },
  {
   "cell_type": "code",
   "execution_count": 20,
   "id": "18aadfc3-d9fd-4596-9e62-aa47cfc9bc31",
   "metadata": {},
   "outputs": [
    {
     "data": {
      "text/plain": [
       "False"
      ]
     },
     "execution_count": 20,
     "metadata": {},
     "output_type": "execute_result"
    }
   ],
   "source": [
    "p < 0.1"
   ]
  },
  {
   "cell_type": "markdown",
   "id": "65360cef-3429-486f-b89b-b8ba9896c17c",
   "metadata": {},
   "source": [
    "Следовательно, у нас нет оснований отвергнуть нулевую гипотезу о согласии выборки со стандартным нормальным распределением на уровне значимости 0.1"
   ]
  },
  {
   "cell_type": "markdown",
   "id": "4af3eeb2-98fd-4a56-ae7a-cfdf1c84e53d",
   "metadata": {},
   "source": [
    "На всякий случай взглянем на QQ-график:"
   ]
  },
  {
   "cell_type": "code",
   "execution_count": 21,
   "id": "d5ec5e42-d779-46f3-90fe-c838279f4485",
   "metadata": {},
   "outputs": [],
   "source": [
    "from statsmodels.graphics.gofplots import qqplot\n",
    "from scipy.stats.distributions import norm as stm_norm"
   ]
  },
  {
   "cell_type": "code",
   "execution_count": 22,
   "id": "b9507990-8252-48c9-b058-197e54614d18",
   "metadata": {},
   "outputs": [
    {
     "data": {
      "image/png": "[encoded data removed]",
      "text/plain": [
       "<Figure size 640x480 with 1 Axes>"
      ]
     },
     "execution_count": 22,
     "metadata": {},
     "output_type": "execute_result"
    },
    {
     "data": {
      "image/png": "[encoded data removed]",
      "text/plain": [
       "<Figure size 640x480 with 1 Axes>"
      ]
     },
     "metadata": {},
     "output_type": "display_data"
    }
   ],
   "source": [
    "qqplot(samp_4, stm_norm, line='45')"
   ]
  },
  {
   "cell_type": "markdown",
   "id": "3126e7ac-1232-48c3-b32a-a90d825f0d57",
   "metadata": {},
   "source": [
    "Ну нормально."
   ]
  },
  {
   "cell_type": "markdown",
   "id": "9e081e9e-2a05-475c-bf58-b658bb97e5ab",
   "metadata": {},
   "source": [
    "#### Решение 4.2:"
   ]
  },
  {
   "cell_type": "markdown",
   "id": "fb8028f5-81b4-40d0-88bd-3a520af07229",
   "metadata": {},
   "source": [
    "Имплементация критерия Колмогорова-Смирнова из scipy:"
   ]
  },
  {
   "cell_type": "code",
   "execution_count": 23,
   "id": "133e98b5-c8a3-4601-bbca-dfd0dedf2827",
   "metadata": {},
   "outputs": [],
   "source": [
    "from scipy.stats import kstest"
   ]
  },
  {
   "cell_type": "code",
   "execution_count": 24,
   "id": "3ede70cf-6b3a-49fd-875d-dab86a8e06ed",
   "metadata": {},
   "outputs": [
    {
     "data": {
      "text/plain": [
       "KstestResult(statistic=0.22289378671323656, pvalue=0.3180193836364317)"
      ]
     },
     "execution_count": 24,
     "metadata": {},
     "output_type": "execute_result"
    }
   ],
   "source": [
    "ks2 = kstest(samp_4, norm(0, 1).cdf)\n",
    "ks2"
   ]
  },
  {
   "cell_type": "markdown",
   "id": "e0bd7a37-aed9-43fd-b3ba-86a41679e986",
   "metadata": {},
   "source": [
    "Легкое расхождение с предыдущим результатом определяется шагом интерполяции в том - например, взять 2000 точек."
   ]
  },
  {
   "cell_type": "markdown",
   "id": "fdd6fef2-9021-4ef5-af82-52dc57320bfe",
   "metadata": {},
   "source": [
    "#### Решение 4.3:"
   ]
  },
  {
   "cell_type": "markdown",
   "id": "3c4529a7-6f99-47a2-82f6-4611283ec594",
   "metadata": {},
   "source": [
    "Имплементация критерия Шапиро-Уилка из scipy.stats:\n"
   ]
  },
  {
   "cell_type": "code",
   "execution_count": 25,
   "id": "48ffddd9-6450-409c-a2ab-f591d6ed8279",
   "metadata": {},
   "outputs": [
    {
     "data": {
      "text/plain": [
       "ShapiroResult(statistic=0.9573008418083191, pvalue=0.5814324021339417)"
      ]
     },
     "execution_count": 25,
     "metadata": {},
     "output_type": "execute_result"
    }
   ],
   "source": [
    "from scipy.stats import shapiro\n",
    "shapiro(samp_4)"
   ]
  },
  {
   "cell_type": "markdown",
   "id": "930891ca-4e06-4cb0-9fb6-81b5e84a3411",
   "metadata": {},
   "source": [
    "Проверка по критерию Шапиро-Уилка тоже говорит об отсуствии основания отвергнуть нулевую гипотезу о согласии.\n",
    "\n",
    "Поэтому - да, это нормально с уровнем значимости в десятую долю."
   ]
  },
  {
   "cell_type": "markdown",
   "id": "d30c1fb4-44c4-4318-bb02-5020b29ad8c3",
   "metadata": {},
   "source": [
    "### 5"
   ]
  },
  {
   "cell_type": "markdown",
   "id": "b4574283-41dc-4d2c-9900-19d7f8930295",
   "metadata": {},
   "source": [
    "Юный пилот Нагатэ Таникадзе всю жизнь жил с дедушкой-отшельником на глубинных уровнях огромного космического корабля \"Сидония\" и не знал, какие изменения претерпело человечество, столетия убегая от космических монстров-гауна. В поисках еды он выбрался-таки на обитаемые палубы и реальность от души шарахнула его по шаблону, когда он увидел комнату с табличкой \"Зал фотосинтеза для гермафродитов\". Во-первых, в целях экономии еды люди генетически модифицировали себя и научились фотосинтезу; во-вторых, появился третий пол в дополнение к мужскому и женскому. Но самое большое потрясение его вызвали настольные игры, в которых использовался пятигранный кубик в виде треугольной призмы. На робкое заявление Нагатэ, что этот кубик нечестный, и квадратные грани выпадают каждая на 1/18 чаще, чем треугольные, гермафродиты только похлопали глазами и сказали \"не может быть!\".\n",
    "\n",
    "Нагатэ лишь прищурился в ответ и бросил злосчастный кубик 360 раз, получив такие результаты:\n",
    "- 1 (квадратная грань): 77\n",
    "- 2 (квадратная грань): 82\n",
    "- 3 (квадратная грань): 80\n",
    "- 4 (треугольная грань): 63\n",
    "- 5 (треугольная грань): 58\n",
    "\n",
    "Гермафродиты немедленно загомонили, что это случайность, но дедушка учил Нагатэ многим нужным пилоту вещам, в том числе и математической статистике.\n",
    "\n",
    "Получится ли у него доказать свою правоту, если он уверен в своих знаниях на 99%?"
   ]
  },
  {
   "cell_type": "markdown",
   "id": "5832dea2-2335-4c5a-8a0b-796d547454d9",
   "metadata": {},
   "source": [
    "#### Решение 5.1:"
   ]
  },
  {
   "cell_type": "markdown",
   "id": "da12f1cf-a95d-4c66-8667-2b9e8dfdee59",
   "metadata": {},
   "source": [
    "Очевидная задача на применение критерия хи-квадрат.\n",
    "\n",
    "Самое первое, что нужно сделать - аккуратно вычислить ожидаемое (теоретическое) распределение. По оговорке Нагатэ можно сказать, что квадратная грань выпадает с вероятностью на 1/18 больше, чем треугольная. Тогда, обозначив вероятность выпадения треугольной грани за x, запишем, помня, что сумма всех вероятностей равна 1:\n",
    "\n",
    "$ P_{1(sq)} + P_{2(sq)} + P_{3(sq)} + P_{4(tr)} + P_{5(tr)} = 1$\n",
    "\n",
    "$ (x + 1/18) + (x + 1/18) + (x + 1/18) + x + x = 1 $\n",
    "\n",
    "$ 5x + 3/18 = 1 $\n",
    "\n",
    "$ 5x = 15/18 = 5/6$\n",
    "\n",
    "$x = 1/6 $"
   ]
  },
  {
   "cell_type": "markdown",
   "id": "199da1b8-ea8a-4fbf-a8df-b1c5fe9ca05f",
   "metadata": {},
   "source": [
    "Таким образом, ожидаемые вероятности запишем как [2/9, 2/9, 2/9, 1/6, 1/6]"
   ]
  },
  {
   "cell_type": "code",
   "execution_count": 26,
   "id": "b83c2dc9-9700-416f-9e2d-b4be79101101",
   "metadata": {},
   "outputs": [
    {
     "data": {
      "text/plain": [
       "array([80., 80., 80., 60., 60.])"
      ]
     },
     "execution_count": 26,
     "metadata": {},
     "output_type": "execute_result"
    }
   ],
   "source": [
    "import numpy as np\n",
    "\n",
    "E_pr = np.array([2/9, 2/9, 2/9, 1/6, 1/6]) # далее домножим на число бросков кубика, чтобы получить ожидаемые значения\n",
    "E_ent = E_pr * 360\n",
    "E_ent"
   ]
  },
  {
   "cell_type": "markdown",
   "id": "a95a8839-931d-46f8-b432-bd36e00044de",
   "metadata": {},
   "source": [
    "Полученные значения:"
   ]
  },
  {
   "cell_type": "code",
   "execution_count": 27,
   "id": "f6adc160-0845-4808-ae46-35dd01e1f47e",
   "metadata": {},
   "outputs": [],
   "source": [
    "O_ent = np.array([77, 82, 80, 63, 58])"
   ]
  },
  {
   "cell_type": "markdown",
   "id": "756c675c-cc4e-43b3-8dc7-74c91f7159f1",
   "metadata": {},
   "source": [
    "Вычислим значение статистики Хи-квадрат для этого случая по формуле $\\chi^2 = \\sum \\frac {(O-E)^2}{E}$:"
   ]
  },
  {
   "cell_type": "code",
   "execution_count": 28,
   "id": "5b30b891-c5d3-44a3-a295-146d0f00bf49",
   "metadata": {},
   "outputs": [
    {
     "data": {
      "text/plain": [
       "0.37916666666666665"
      ]
     },
     "execution_count": 28,
     "metadata": {},
     "output_type": "execute_result"
    }
   ],
   "source": [
    "chis = np.sum((O_ent - E_ent) ** 2 / E_ent)\n",
    "chis"
   ]
  },
  {
   "cell_type": "markdown",
   "id": "0b061d44-bb5c-4b71-852e-5ff04758ba91",
   "metadata": {},
   "source": [
    "Теперь воспользуемся распределением Хи-квадрат из scipy.stats c числом степеней свободы 4 (на 1 меньше, чем количество граней на кубике):"
   ]
  },
  {
   "cell_type": "code",
   "execution_count": 29,
   "id": "d959ff1f-0893-40bc-b22a-6eaf2f42e4da",
   "metadata": {},
   "outputs": [
    {
     "data": {
      "text/plain": [
       "0.9841467788270921"
      ]
     },
     "execution_count": 29,
     "metadata": {},
     "output_type": "execute_result"
    }
   ],
   "source": [
    "from scipy.stats import chi2\n",
    "\n",
    "ch = chi2(len(O_ent)- 1)\n",
    "p = 1 - ch.cdf(chis)\n",
    "p"
   ]
  },
  {
   "cell_type": "code",
   "execution_count": 30,
   "id": "ff6630a9-ccab-4410-bd39-1d5cb8c84dfe",
   "metadata": {},
   "outputs": [
    {
     "data": {
      "text/plain": [
       "False"
      ]
     },
     "execution_count": 30,
     "metadata": {},
     "output_type": "execute_result"
    }
   ],
   "source": [
    "p < 0.01"
   ]
  },
  {
   "cell_type": "markdown",
   "id": "cf4e0460-da6c-44c5-83d1-612bf40ad398",
   "metadata": {},
   "source": [
    "Таким образом, нет статистических оснований отвергнуть нулевую гипотезу о том, что кубик нечестный. Вот вам, гермафродиты!"
   ]
  },
  {
   "cell_type": "markdown",
   "id": "d7d47029-30b9-4f6a-90ec-7ea9b5374504",
   "metadata": {},
   "source": [
    "#### Решение 5.2:"
   ]
  },
  {
   "cell_type": "markdown",
   "id": "ac164b31-ff78-4a57-9ec5-04ff12fcead1",
   "metadata": {},
   "source": [
    "Имплементация того же самого теста из scipy.stats:"
   ]
  },
  {
   "cell_type": "code",
   "execution_count": 31,
   "id": "52f1f19d-778f-49b8-b248-d81b5f4c0372",
   "metadata": {},
   "outputs": [
    {
     "data": {
      "text/plain": [
       "Power_divergenceResult(statistic=0.37916666666666665, pvalue=0.9841467788270921)"
      ]
     },
     "execution_count": 31,
     "metadata": {},
     "output_type": "execute_result"
    }
   ],
   "source": [
    "from scipy.stats import chisquare\n",
    "\n",
    "chi2_test = chisquare(O_ent, E_ent)\n",
    "chi2_test"
   ]
  },
  {
   "cell_type": "markdown",
   "id": "246cca0d-0ab9-4dd7-93f1-dd5722d9d77c",
   "metadata": {},
   "source": [
    "### Bonus"
   ]
  },
  {
   "cell_type": "markdown",
   "id": "2a5c68ba-24c8-44e0-b579-52521851f929",
   "metadata": {},
   "source": [
    "Охраннику Сергею, работающему в супермаркете \"Магнит\", очень хочется курить. Весь день было не найти даже жалких 3 минут, эти чертовы покупатели постоянно приходили и приходили. От скуки и однообразия Сергей даже посчитал, что в среднем в магазин приходит 4 человека в минуту. Потом ему понравилось считать, и он внезапно обнаружил, что это развлекает. С помощью гугла и зверской интуиции, впитанной с портвейном молодости в пригородах Ставрополя, Сергей решил, что он сбегает покурить, если вероятность того, что пока он курит, в магазин зайдет не больше 5 человек (за ними последит тележечник Фархотжон), не будет больше 5%. \n",
    "\n",
    "Сможет ли Сергей позволить себе приятную дымную паузу среди суетного рабочего дня?"
   ]
  },
  {
   "cell_type": "markdown",
   "id": "2a510646-bd72-48a3-a8b9-9923d1b45016",
   "metadata": {},
   "source": [
    "#### Решение Bonus:"
   ]
  },
  {
   "cell_type": "markdown",
   "id": "4c6e2cbe-fc0a-4158-99d5-3757fb022b7f",
   "metadata": {},
   "source": [
    "Это, очевидно, задача на распределение Пуассона (ключевые слова - среднее число событий в единицу времени).\n",
    "Основной параметр распределения - 4, время - 3 минуты, события - не больше 5 человек.\n",
    "\n",
    "Запишем основную формулу распределения со временем и $\\lambda=4$:\n",
    "\n",
    "$P_t(k)=\\frac{(\\lambda t)^k * e^{-\\lambda t}}{k!}=\\frac{(4t)^k * e^{-4t}}{k!}$\n",
    "\n",
    "Теперь что есть вероятность того, что зайдет не больше пяти человек? Это:\n",
    "\n",
    "$P_3(k<=5) = P_3(0) + P_3(1) + P_3(2) + P_3(3) + P_3(4) + P_3(5)$"
   ]
  },
  {
   "cell_type": "code",
   "execution_count": 32,
   "id": "ab300570-0cbd-4898-b4f6-0d7c68ee51a9",
   "metadata": {},
   "outputs": [
    {
     "data": {
      "text/plain": [
       "0.02034102941692837"
      ]
     },
     "execution_count": 32,
     "metadata": {},
     "output_type": "execute_result"
    }
   ],
   "source": [
    "import numpy as np\n",
    "from math import factorial\n",
    "\n",
    "def p(lam, t, k):\n",
    "    return ((lam * t) ** k) * np.exp(-lam * t) / factorial(k)\n",
    "\n",
    "p(4, 3, 0) + p(4, 3, 1) + p(4, 3, 2) + p(4, 3, 3) + p(4, 3, 4) + p(4, 3, 5)"
   ]
  },
  {
   "cell_type": "markdown",
   "id": "730c055b-c7e3-4bae-bea8-f74b5b2a56b8",
   "metadata": {},
   "source": [
    "Охранник Сергей может отлучиться покурить."
   ]
  }
 ],
 "metadata": {
  "kernelspec": {
   "display_name": "Python 3 (ipykernel)",
   "language": "python",
   "name": "python3"
  },
  "language_info": {
   "codemirror_mode": {
    "name": "ipython",
    "version": 3
   },
   "file_extension": ".py",
   "mimetype": "text/x-python",
   "name": "python",
   "nbconvert_exporter": "python",
   "pygments_lexer": "ipython3",
   "version": "3.8.13"
  }
 },
 "nbformat": 4,
 "nbformat_minor": 5
}
