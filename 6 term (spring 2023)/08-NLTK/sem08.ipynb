{
 "cells": [
  {
   "cell_type": "markdown",
   "id": "9450015c-9d4e-4e76-80ae-7b14b3c61600",
   "metadata": {},
   "source": [
    "#### Задача 1. \n",
    "\n",
    "Выберите любой понравившийся художественный текст (в текстовом файле! Вставлять текст в код нельзя). Превратите его в объект Text() nltk. Попробуйте поискать вхождения какого-нибудь слова."
   ]
  },
  {
   "cell_type": "code",
   "execution_count": null,
   "id": "eb525aa8-3ece-4553-93a6-c0b23f53fa6c",
   "metadata": {},
   "outputs": [],
   "source": [
    "# your code here"
   ]
  },
  {
   "cell_type": "markdown",
   "id": "fe2a4cc4-5cc8-4d57-8970-c63b3bea9183",
   "metadata": {},
   "source": [
    "#### Задача 2. \n",
    "\n",
    "Выведите 5 самых частотных 4-грамов в этом тексте. Сгенерируйте текст на основе вашего. "
   ]
  },
  {
   "cell_type": "code",
   "execution_count": null,
   "id": "a90106c6-43cc-42f7-b40e-d6d681933834",
   "metadata": {},
   "outputs": [],
   "source": [
    "# your code here"
   ]
  },
  {
   "cell_type": "markdown",
   "id": "fd4073df-9105-4fd0-bc6c-b80abb60ea1e",
   "metadata": {},
   "source": [
    "#### Задача 3. \n",
    "\n",
    "Возьмите два текста (не короче 10 предложений! Чем больше, тем лучше, очень желательно в текстовых файлах) на русском и английском языке. Посчитайте для них процент лексического разнообразия (по формуле количество уникальных токенов / общее количество токенов \\* 100), используя стеммер для того, чтобы уменьшить влияние морфологии. "
   ]
  },
  {
   "cell_type": "code",
   "execution_count": null,
   "id": "c140734f-79c5-4465-b015-475894db49e5",
   "metadata": {},
   "outputs": [],
   "source": [
    "# your code here"
   ]
  },
  {
   "cell_type": "markdown",
   "id": "87b76b85-6873-4839-877d-74e09d7c9ff2",
   "metadata": {},
   "source": [
    "#### Задача 4. \n",
    "\n",
    "Возьмите любое англоязычное многозначное слово, какое придет вам на ум. КОнтексты для него можете добыть в гугле (и вообще любым способом). Исследуйте его значения с помощью алгоритма Леска. "
   ]
  },
  {
   "cell_type": "code",
   "execution_count": null,
   "id": "152dd7d3-a852-47f6-8f9b-dd3d2302f8f9",
   "metadata": {},
   "outputs": [],
   "source": [
    "# your code here"
   ]
  },
  {
   "cell_type": "markdown",
   "id": "f29b3776-1e7a-4c86-a8e7-e7e7894f1649",
   "metadata": {},
   "source": [
    "#### Задача 5. \n",
    "\n",
    "Возьмите любой англоязычный текст, желательно из каких-нибудь социальных сетей или с большим количеством имен собственных, длиной примерно в один абзац. Лемматизируйте его с помощью WordNetLemmatizer. Проверьте, насколько правильно он лемматизировал ваш текст (придется ручками посчитать, поэтому слишком длинный текст не надо:)), посчитайте качество лемматизации в процентах (количество верно лемматизированных слов / на количество всех слов * 100). \n",
    "\n",
    "Бонус: оцените скорость его работы с помощью магических функций %timeit или %%timeit. "
   ]
  },
  {
   "cell_type": "code",
   "execution_count": null,
   "id": "18373e0c-2491-4d2b-9b5b-7e00a8b3b383",
   "metadata": {},
   "outputs": [],
   "source": [
    "# your code here"
   ]
  }
 ],
 "metadata": {
  "kernelspec": {
   "display_name": "Python 3 (ipykernel)",
   "language": "python",
   "name": "python3"
  },
  "language_info": {
   "codemirror_mode": {
    "name": "ipython",
    "version": 3
   },
   "file_extension": ".py",
   "mimetype": "text/x-python",
   "name": "python",
   "nbconvert_exporter": "python",
   "pygments_lexer": "ipython3",
   "version": "3.9.12"
  }
 },
 "nbformat": 4,
 "nbformat_minor": 5
}
