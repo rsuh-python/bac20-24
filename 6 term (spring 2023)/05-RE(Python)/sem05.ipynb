{
 "cells": [
  {
   "cell_type": "markdown",
   "id": "70e703bf-7b60-4f03-a3fc-30ccdca70de7",
   "metadata": {},
   "source": [
    "#### Задача 1.\n",
    "\n",
    "Найдите в тексте все телефонные номера. Номера могут быть в формате 0(000)00-00-00 или 0 000 00 00 00."
   ]
  },
  {
   "cell_type": "code",
   "execution_count": null,
   "id": "d92bc512-32ea-46a3-ae99-7be77c8fa8c6",
   "metadata": {},
   "outputs": [],
   "source": [
    "# your code here"
   ]
  },
  {
   "cell_type": "markdown",
   "id": "5ad1d89c-b0ce-45e5-a641-457b962c06f8",
   "metadata": {},
   "source": [
    "#### Задача 2.\n",
    "\n",
    "Программа ждет, что пользователь введет адрес электронной почты. Предполагается, что адрес может содержать только латинские буквы, цифры и нижнее подчеркивание, обязательно содержит @ и имя домена через точку. Других точек в адресе нет. Программа должна проверять, что пользователь ввел именно такой адрес, и предупреждать, если что-то неладно. Используйте fullmatch."
   ]
  },
  {
   "cell_type": "code",
   "execution_count": null,
   "id": "4986fdc5-d814-41ee-a85e-c245067d1f65",
   "metadata": {},
   "outputs": [],
   "source": [
    "# your code here"
   ]
  },
  {
   "cell_type": "markdown",
   "id": "01a64604-a79a-46c7-91ae-b3641567b1ca",
   "metadata": {},
   "source": [
    "#### Задача 3.\n",
    "\n",
    "Цензура: в тексте встречается слово *война* и разные его вариации в падежах (и регистр тоже везде разный). Замените это слово по всему тексту на многоточие."
   ]
  },
  {
   "cell_type": "code",
   "execution_count": null,
   "id": "7f0adfed-8241-479b-b9d8-9d31733fd7a3",
   "metadata": {},
   "outputs": [],
   "source": [
    "# your code here"
   ]
  },
  {
   "cell_type": "markdown",
   "id": "bbf83ee7-838e-4e59-b670-45a4c20b4e9a",
   "metadata": {},
   "source": [
    "#### Задача 4.\n",
    "\n",
    "У нас есть (любой) текст, в котором встречаются целые числа. Числа могут быть отрицательными, тогда между минусом и числом нет никакого другого знака. Напишите программу, которая все числа увеличит на единицу (причем 34 должно превратиться в 35, а -34 - в -33). Нельзя пользоваться циклами!"
   ]
  },
  {
   "cell_type": "code",
   "execution_count": null,
   "id": "a2a83f8c-981f-4758-a380-f53e701c03f9",
   "metadata": {},
   "outputs": [],
   "source": [
    "# your code here"
   ]
  },
  {
   "cell_type": "markdown",
   "id": "e0e1cdb9-a9da-437b-8b6f-daf185acb941",
   "metadata": {
    "tags": []
   },
   "source": [
    "#### Задача 5. \n",
    "\n",
    "Найти ценники в формате \"10000 руб. 00 коп.\", при этом:\n",
    "- \"руб.\" и \"коп.\" не обязательно сокращены;\n",
    "- кол-во копеек не может быть трёхзначным;\n",
    "- кол-во рублей может быть нулевым, но не может быть некорректно записанным числом типа \"0123 рубля\")"
   ]
  },
  {
   "cell_type": "code",
   "execution_count": null,
   "id": "9afcf7ac-d19a-49f4-b2d9-8012968ca7ea",
   "metadata": {},
   "outputs": [],
   "source": [
    "# your code here"
   ]
  },
  {
   "cell_type": "markdown",
   "id": "ad30c489-cc19-4829-b682-e869ed2e2a9d",
   "metadata": {},
   "source": [
    "#### Задача 6.\n",
    "\n",
    "Некоторые любят выделять особо важные места в тексте с помощью нижнего подчёркивания, например: \"...здесь \\_очень важно\\_ отметить...\" (дело в том, что нижние подчеркивания в некоторых редакторах автоматически превращаются в курсив).\n",
    "\n",
    "Ищем такие выделения, но не длиннее 5 слов."
   ]
  },
  {
   "cell_type": "code",
   "execution_count": null,
   "id": "bcc607bd-bff6-4087-b35e-82b5b1450afd",
   "metadata": {},
   "outputs": [],
   "source": [
    "# your code here"
   ]
  },
  {
   "cell_type": "markdown",
   "id": "d088f8de-439b-4f57-85f9-c362e187c02b",
   "metadata": {},
   "source": [
    "#### Задача 7.\n",
    "\n",
    "Найти в тексте все куски, которые взяты в круглые скобки. Считаем, что вложенных скобок нет."
   ]
  },
  {
   "cell_type": "code",
   "execution_count": null,
   "id": "28d4fd0a-d983-4f4f-ab9e-08bced740295",
   "metadata": {},
   "outputs": [],
   "source": [
    "# your code here"
   ]
  },
  {
   "cell_type": "markdown",
   "id": "e259cd15-fff8-4ff3-bd25-aeca43d5b640",
   "metadata": {},
   "source": [
    "#### Задача 8. \n",
    "\n",
    "В текстовом файле находятся пути к другим файлам. Каждый путь устроен таким образом, что у него обязательно есть расширение через точку, название собственно файла и как минимум папка, в которой он находится, например:\n",
    "\n",
    "    myfolder/myfile.txt\n",
    "    C:\\Python\\files\\script.py\n",
    "    ...\n",
    "    \n",
    "Обратите внимание, что слеш может быть в любую сторону (в Windows он обратный, в Unix-системах прямой). Напишите такое регулярное выражение, которое будет в поиске re.findall возвращать кортежи вида ('все, что слева от имени файла', 'имя файла', 'расширение'). Для примеров:\n",
    "\n",
    "    ('myfolder', 'myfile', 'txt')\n",
    "    ('C:\\Python\\files', 'script', 'py')\n",
    "    "
   ]
  },
  {
   "cell_type": "code",
   "execution_count": null,
   "id": "95382188-31a0-4cb5-993c-0857e5e1f9ef",
   "metadata": {},
   "outputs": [],
   "source": [
    "# your code here"
   ]
  }
 ],
 "metadata": {
  "kernelspec": {
   "display_name": "Python 3 (ipykernel)",
   "language": "python",
   "name": "python3"
  },
  "language_info": {
   "codemirror_mode": {
    "name": "ipython",
    "version": 3
   },
   "file_extension": ".py",
   "mimetype": "text/x-python",
   "name": "python",
   "nbconvert_exporter": "python",
   "pygments_lexer": "ipython3",
   "version": "3.9.12"
  }
 },
 "nbformat": 4,
 "nbformat_minor": 5
}
