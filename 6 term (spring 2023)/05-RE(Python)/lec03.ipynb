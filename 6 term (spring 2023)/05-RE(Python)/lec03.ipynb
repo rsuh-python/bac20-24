{
 "cells": [
  {
   "cell_type": "markdown",
   "id": "fc7b8f8c-7b8a-4948-84e8-3117e806090a",
   "metadata": {},
   "source": [
    "### re"
   ]
  },
  {
   "cell_type": "markdown",
   "id": "cfcdcbe3-166c-49dd-8eb0-f3387bcea35d",
   "metadata": {},
   "source": [
    "Центральные объекты модуля re - это классы re.Pattern и re.Match. Любая функция модуля, прежде чем искать по регулярному выражению, должна его *скомпилировать*. Регулярное выражение в питоне - это всегда строка, которую модуль re превращает в свой собственный объект. Функции re умеют компилировать регулярки сами, но можно скомпилировать строку с рв заранее:"
   ]
  },
  {
   "cell_type": "code",
   "execution_count": 1,
   "id": "effaf428-5150-4203-a27b-8faa0a604d5b",
   "metadata": {},
   "outputs": [],
   "source": [
    "import re\n",
    "\n",
    "pattern = re.compile(r'\\d+')"
   ]
  },
  {
   "cell_type": "markdown",
   "id": "cf976a24-8e54-44e7-985d-244bd6f268d7",
   "metadata": {},
   "source": [
    "Обратите внимание, что рекомендуется всегда ставить буковку r перед строкой с регуляркой, потому что там есть специальные последовательности, которые могут начать конфликтовать со стандартными питоньими. \n",
    "\n",
    "Класс Match - это класс того, что нашлось на ваше регулярное выражение. Он содержит несколько вещей:\n",
    "\n",
    "1. Само найденное выражение + отдельно содержимое групп рв, если они там были. \n",
    "2. Индексы найденного выражения в исходной строке. \n",
    "\n",
    "Чтобы в классе Match найти все выражение целиком, нужно использовать метод group:"
   ]
  },
  {
   "cell_type": "code",
   "execution_count": null,
   "id": "f2b6c16a-8263-4597-b07d-0f27899e5e37",
   "metadata": {},
   "outputs": [],
   "source": [
    "m.group()  # можно указать 0, а можно не указывать - 0 по умолчанию."
   ]
  },
  {
   "cell_type": "markdown",
   "id": "62f330a6-d818-4a13-bdbb-f72fd15073f3",
   "metadata": {},
   "source": [
    "Если нужно достать только содержимое какой-то из групп, то можно просто передать ее номер:"
   ]
  },
  {
   "cell_type": "code",
   "execution_count": null,
   "id": "9edba108-2a9a-48ef-90d5-a3a6cc3d106a",
   "metadata": {},
   "outputs": [],
   "source": [
    "m.group(1)"
   ]
  },
  {
   "cell_type": "markdown",
   "id": "81b521ad-04a1-447b-91e9-917c3ec9326b",
   "metadata": {},
   "source": [
    "Также у объектов класса Match есть три метода:"
   ]
  },
  {
   "cell_type": "code",
   "execution_count": null,
   "id": "e2988b48-9bfe-40d2-8c13-342e7fedcebb",
   "metadata": {},
   "outputs": [],
   "source": [
    "m.start()  # возвращает индекс исходной строки, с которого вхождение начинается\n",
    "m.end()  # то же, только для конца\n",
    "n.span()  # возвращает кортеж из этих индексов"
   ]
  },
  {
   "cell_type": "markdown",
   "id": "111c2b5b-a1c1-4d96-9474-680e8012795c",
   "metadata": {},
   "source": [
    "Ну и теперь какие у нас есть функции. \n",
    "\n",
    "1. Поиска:\n",
    "\n",
    "        re.search(pattern, text, flags) - ищет до первого вхождения, полностью аналогично find, только с рв. \n",
    "        re.findall(pattern, text, flags) - ищет все вхождения. Возвращает списком строк. Если в рв были группы, вернет список кортежей с содержимым групп!\n",
    "        re.finditer(pattern, text, flags) - то же, что findall, только возвращает итератор из объектов класса match. Можно превратить в список, а можно сразу итерироваться.\n",
    "        \n",
    "2. Проверок:\n",
    "\n",
    "        re.match(pattern, text, flags) - проверяет, что строчка text начинается с pattern. \n",
    "        re.fullmatch(pattern, text, flags) - проверяет, что строчка text полностью подходит под pattern.\n",
    "        \n",
    "3. Замены:\n",
    "\n",
    "        re.sub(pattern, sub, text, flags) - заменяет все вхождения pattern на строку sub (вместо строки можно передать функцию, которая принимает объект класса match и возвращает строку). "
   ]
  },
  {
   "cell_type": "markdown",
   "id": "3aca6615-9352-4218-bfad-54b2d916d9ff",
   "metadata": {},
   "source": [
    "flags в каждой из этих функций - необязательный параметр. Вы можете передать флаги, если хотите. Какие бывают флаги? \n",
    "\n",
    "re.DOTALL (= re.S) - точка обозначает и \\\\n\n",
    "\n",
    "re.MULTILINE (= re.M) - ^ и $ ищут внутри строки\n",
    "\n",
    "re.IGNORECASE (= re.I) - игнорируется регистр\n",
    "\n",
    "Флаги можно также указывать внутри регулярного выражения с помощью (?): r'(?i)...' - так передается флаг ignorecase. "
   ]
  }
 ],
 "metadata": {
  "kernelspec": {
   "display_name": "Python 3 (ipykernel)",
   "language": "python",
   "name": "python3"
  },
  "language_info": {
   "codemirror_mode": {
    "name": "ipython",
    "version": 3
   },
   "file_extension": ".py",
   "mimetype": "text/x-python",
   "name": "python",
   "nbconvert_exporter": "python",
   "pygments_lexer": "ipython3",
   "version": "3.9.12"
  }
 },
 "nbformat": 4,
 "nbformat_minor": 5
}
