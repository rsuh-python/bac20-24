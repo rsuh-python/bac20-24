{
 "cells": [
  {
   "cell_type": "markdown",
   "id": "f22c8f39-eec5-411f-b400-53d5015d12d6",
   "metadata": {},
   "source": [
    "#### Задача 1. \n",
    "\n",
    "Текст состоит из строк (lines). Удалите одним регулярным выражением все пробелы в началах всех строк, и все пробелы в концах всех строк."
   ]
  },
  {
   "cell_type": "code",
   "execution_count": null,
   "id": "fe900c74-ee9c-45c5-bd55-c8432e16064c",
   "metadata": {},
   "outputs": [],
   "source": [
    "# your code here"
   ]
  },
  {
   "cell_type": "markdown",
   "id": "bfd1d0d3-cb07-4edc-b444-326a44742a8d",
   "metadata": {},
   "source": [
    "#### Задача 2. \n",
    "\n",
    "То же, но теперь не только обычные пробелы, а все пробельные символы. При этом, дополнительно нужно удалить все пустые строки (пустые вообще, а так же состоящие только из пробельных символов). Попробуйте сделать это за одну операцию замены."
   ]
  },
  {
   "cell_type": "code",
   "execution_count": null,
   "id": "e2ab3eab-b8b7-4ab6-9bff-b4116370f5b2",
   "metadata": {},
   "outputs": [],
   "source": [
    "# your code here"
   ]
  },
  {
   "cell_type": "markdown",
   "id": "59bf74ac-fe50-4596-ba99-dc31e831761e",
   "metadata": {},
   "source": [
    "#### Задача 3. \n",
    "\n",
    "Сделайте то же самое без регулярных выражений в одну строчку, используя bilt-in функцию filter."
   ]
  },
  {
   "cell_type": "code",
   "execution_count": null,
   "id": "a6ce8381-6864-4987-b616-7c65c53e7aea",
   "metadata": {},
   "outputs": [],
   "source": [
    "# your code here"
   ]
  },
  {
   "cell_type": "markdown",
   "id": "74cb5041-bb68-47c9-93aa-2d3a0ba129e8",
   "metadata": {},
   "source": [
    "#### Задача 4.\n",
    "\n",
    "В тексте встречаются нецелые числа (причем могут быть через запятую или через точку). Нужно все числа в тексте округлить до двух знаков после запятой(точки), причем не просто отрезать хвост: 2.467 должно превращаться в 2.47."
   ]
  },
  {
   "cell_type": "code",
   "execution_count": null,
   "id": "19b8ff5f-b1bb-433e-9e73-d27772ec932d",
   "metadata": {},
   "outputs": [],
   "source": [
    "# your code here"
   ]
  },
  {
   "cell_type": "markdown",
   "id": "19b8ad95-34d8-4200-a0ac-be086185e2f7",
   "metadata": {},
   "source": [
    "#### Задача 5.\n",
    "\n",
    "Напишите самый простой токенизатор: он должен захватывать стандартные знаки препинания, русские и английские слова (символы с диакритиками не берем в расчет), причем таким образом, чтобы каждому токену еще приписывалась его категория: пунктуация, кириллическое или английское слово. Подсказка: здесь очень удобно использовать группы. "
   ]
  },
  {
   "cell_type": "code",
   "execution_count": null,
   "id": "690d832d-fc8b-4256-9700-07e5fff3600d",
   "metadata": {},
   "outputs": [],
   "source": [
    "# your code here\n",
    "\n",
    "'''Optional class realisation'''\n",
    "class Tokenizer:\n",
    "    def __init__(self):\n",
    "        ...\n",
    "        \n",
    "    def tokenize(self, text):\n",
    "        ...\n",
    "        \n",
    "class Token:\n",
    "    def __init__(self):\n",
    "        ... \n",
    "    \n",
    "    def __str__(self):\n",
    "        ... \n",
    "        \n",
    "    def __repr__(self):\n",
    "        ..."
   ]
  },
  {
   "cell_type": "code",
   "execution_count": null,
   "id": "87aad737-af31-41ba-bacb-f7c60798538a",
   "metadata": {},
   "outputs": [],
   "source": [
    "# your code here"
   ]
  }
 ],
 "metadata": {
  "kernelspec": {
   "display_name": "Python 3 (ipykernel)",
   "language": "python",
   "name": "python3"
  },
  "language_info": {
   "codemirror_mode": {
    "name": "ipython",
    "version": 3
   },
   "file_extension": ".py",
   "mimetype": "text/x-python",
   "name": "python",
   "nbconvert_exporter": "python",
   "pygments_lexer": "ipython3",
   "version": "3.9.12"
  }
 },
 "nbformat": 4,
 "nbformat_minor": 5
}
