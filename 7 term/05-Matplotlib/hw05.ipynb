{
 "cells": [
  {
   "cell_type": "markdown",
   "id": "6749bab4-4dfb-4c42-b260-13f2a3463561",
   "metadata": {},
   "source": [
    "#### Задача 1.\n",
    "\n",
    "Постройте график для функции $y = x^2$. Настойчиво предлагаю поиграться с его визуальными настройками. "
   ]
  },
  {
   "cell_type": "code",
   "execution_count": null,
   "id": "dd94d2d2-05a7-4499-884c-89eb97ef4417",
   "metadata": {},
   "outputs": [],
   "source": [
    "# your code here"
   ]
  },
  {
   "cell_type": "markdown",
   "id": "29134775-cd81-4ca8-a23b-a2528d285b0c",
   "metadata": {},
   "source": [
    "#### Задача 2.\n",
    "\n",
    "Сгенерируйте два массива случайных чисел и постройте для них график scatter. "
   ]
  },
  {
   "cell_type": "code",
   "execution_count": null,
   "id": "f7349299-7b7e-4dcf-a714-a997120ff189",
   "metadata": {},
   "outputs": [],
   "source": [
    "# your code here"
   ]
  },
  {
   "cell_type": "markdown",
   "id": "d8ec9886-8523-4611-9985-38a6bda062a0",
   "metadata": {},
   "source": [
    "#### Задача 3. \n",
    "\n",
    "Напишите функцию, которая строит график для n самых частотных слов в тексте. Сделайте интерактивный график, где можно выбирать количество n слов. "
   ]
  },
  {
   "cell_type": "code",
   "execution_count": null,
   "id": "37e19f8f-f5f5-47fa-8a6e-117f13a4b0dd",
   "metadata": {},
   "outputs": [],
   "source": [
    "# your code here"
   ]
  },
  {
   "cell_type": "markdown",
   "id": "d39e9b9f-921e-4529-a3f4-396be487a443",
   "metadata": {},
   "source": [
    "#### Задача 4.\n",
    "\n",
    "Напишите функцию для просмотра палитр seaborn, оберните ее в interact, чтобы можно было в выпадающем списке выбирать название палитры. "
   ]
  },
  {
   "cell_type": "code",
   "execution_count": null,
   "id": "aded359e-1600-4e8f-ba1d-f42a92c935bf",
   "metadata": {},
   "outputs": [],
   "source": [
    "# your code here"
   ]
  }
 ],
 "metadata": {
  "kernelspec": {
   "display_name": "Python 3 (ipykernel)",
   "language": "python",
   "name": "python3"
  },
  "language_info": {
   "codemirror_mode": {
    "name": "ipython",
    "version": 3
   },
   "file_extension": ".py",
   "mimetype": "text/x-python",
   "name": "python",
   "nbconvert_exporter": "python",
   "pygments_lexer": "ipython3",
   "version": "3.9.12"
  }
 },
 "nbformat": 4,
 "nbformat_minor": 5
}
